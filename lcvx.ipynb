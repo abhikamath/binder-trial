{
 "cells": [
  {
   "cell_type": "markdown",
   "metadata": {},
   "source": [
    "# LCvx: 3-DoF Fuel-Optimal Rocket Landing\n",
    "\n",
    "*In this example, we apply the theory of <u>lossless convexification</u> to compute a minimum fuel trajectory for rocket landing on Mars. Similar methods have been applied to sub-orbital and orbital rocket landing [1], [2].*\n",
    "\n",
    "[1] D. P. Scharf, B. Açıkmeşe, D. Dueri, J. Benito, and J. Casoliva, \"Implementation and experimental demonstration of onboard powered-descent guidance,\" Journal of Guidance, Control, and Dynamics, vol. 40, pp. 213-229, Feb. 2017.\n",
    "\n",
    "[2] L. Blackmore, \"Autonomous precision landing of space rockets,\" The Bridge, vol. 4, pp. 15–20, Dec. 2016."
   ]
  },
  {
   "cell_type": "markdown",
   "metadata": {},
   "source": [
    "Begin by importing appropriate Julia packages. We'll use [ECOS](https://github.com/embotech/ecos) as our SOCP back-end solver, and [JuMP](https://github.com/jump-dev/JuMP.jl) as the optimization problem front-end parser."
   ]
  },
  {
   "cell_type": "code",
   "execution_count": 555,
   "metadata": {},
   "outputs": [],
   "source": [
    "using LinearAlgebra\n",
    "using JuMP, ECOS\n",
    "using Printf\n",
    "using PyPlot"
   ]
  },
  {
   "cell_type": "markdown",
   "metadata": {},
   "source": [
    "## Data structures\n",
    "\n",
    "This section defines data structures that we'll use for implementing the rocket landing problem."
   ]
  },
  {
   "cell_type": "markdown",
   "metadata": {},
   "source": [
    "First, define some variable type aliases."
   ]
  },
  {
   "cell_type": "code",
   "execution_count": 556,
   "metadata": {},
   "outputs": [],
   "source": [
    "global const LCvxReal = Float64\n",
    "global const LCvxVector = Vector{LCvxReal}\n",
    "global const LCvxMatrix = Matrix{LCvxReal}\n",
    ";"
   ]
  },
  {
   "cell_type": "markdown",
   "metadata": {},
   "source": [
    "Define the rocket object data type."
   ]
  },
  {
   "cell_type": "code",
   "execution_count": 557,
   "metadata": {},
   "outputs": [],
   "source": [
    "mutable struct Rocket\n",
    "    g::LCvxVector     # [m/s²] Acceleration due to gravity\n",
    "    ω::LCvxVector     # [rad/s] Planet angular velocity\n",
    "    m_dry::LCvxReal   # [kg] Dry mass (structure)\n",
    "    m_wet::LCvxReal   # [kg] Wet mass (structure+fuel)\n",
    "    Isp::LCvxReal     # [s] Specific impulse\n",
    "    ϕ::LCvxReal       # [rad] Rocket engine cant angle\n",
    "    α::LCvxReal       # [s/m] 1/(rocket engine exit velocity)\n",
    "    ρ_min::LCvxReal   # [N] Minimum thrust\n",
    "    ρ_max::LCvxReal   # [N] Maximum thrust\n",
    "    γ_gs::LCvxReal    # [rad] Maximum approach angle\n",
    "    γ_p::LCvxReal     # [rad] Maximum pointing angle\n",
    "    v_max::LCvxReal   # [m/s] Maximum velocity\n",
    "    r0::LCvxVector    # [m] Initial position\n",
    "    v0::LCvxVector    # [m] Initial velocity\n",
    "    Δt::LCvxReal      # [s] Discretization time step\n",
    "    A_c::LCvxMatrix   # Continuous-time dynamics A matrix\n",
    "    B_c::LCvxMatrix   # Continuous-time dynamics B matrix\n",
    "    p_c::LCvxVector   # Continuous-time dynamics p vector\n",
    "    n::Int            # Number of states\n",
    "    m::Int            # Number of inputs\n",
    "end"
   ]
  },
  {
   "cell_type": "markdown",
   "metadata": {},
   "source": [
    "The next function creates a rocket object with the appropriate 3-DoF dynamics, given user-defined problem parameters."
   ]
  },
  {
   "cell_type": "code",
   "execution_count": 558,
   "metadata": {},
   "outputs": [],
   "source": [
    "function Rocket(g::LCvxVector,ω::LCvxVector,m_dry::LCvxReal,\n",
    "                m_wet::LCvxReal,Isp::LCvxReal,ϕ::LCvxReal,ρ_min::LCvxReal,\n",
    "                ρ_max::LCvxReal,γ_gs::LCvxReal,γ_p::LCvxReal,\n",
    "                v_max::LCvxReal,r0::LCvxVector,v0::LCvxVector,\n",
    "                Δt::LCvxReal)::Rocket\n",
    "    # Initialize rocket object with the appropriate parameters.\n",
    "    #\n",
    "    # :in *: see corresponding term in Rocket struct.\n",
    "    # :out rocket: the rocket object.\n",
    "\n",
    "    # ..:: Continuous-time dynamics ::..\n",
    "    ge = 9.807 # Standard gravity\n",
    "    α = 1/(Isp*ge*cos(ϕ))\n",
    "    ω_x = LCvxMatrix([0 -ω[3] ω[2];ω[3] 0 -ω[1];-ω[2] ω[1] 0])\n",
    "    A_c = LCvxMatrix([zeros(3,3) I(3) zeros(3);\n",
    "                      -(ω_x)^2 -2*ω_x zeros(3);\n",
    "                      zeros(1,7)])\n",
    "    B_c = LCvxMatrix([zeros(3,4);\n",
    "                      I(3) zeros(3,1);\n",
    "                      zeros(1,3) -α])\n",
    "    p_c = LCvxVector(vcat(zeros(3),g,0))\n",
    "    n,m = size(B_c)\n",
    "\n",
    "    # ..:: Make rocket object ::..\n",
    "    rocket = Rocket(g,ω,m_dry,m_wet,Isp,ϕ,α,ρ_min,ρ_max,γ_gs,γ_p,v_max,\n",
    "                    r0,v0,Δt,A_c,B_c,p_c,n,m)\n",
    "\n",
    "    return rocket\n",
    "end\n",
    ";"
   ]
  },
  {
   "cell_type": "markdown",
   "metadata": {},
   "source": [
    "Define the solution object data type."
   ]
  },
  {
   "cell_type": "code",
   "execution_count": 559,
   "metadata": {},
   "outputs": [],
   "source": [
    "struct Solution\n",
    "    # >> Raw data <<\n",
    "    t::LCvxVector      # [s] Time vector\n",
    "    r::LCvxMatrix      # [m] Position trajectory\n",
    "    v::LCvxMatrix      # [m/s] Velocity trajectory\n",
    "    z::LCvxVector      # [log(kg)] Log(mass) history\n",
    "    u::LCvxMatrix      # [m/s^2] Acceleration vector\n",
    "    ξ::LCvxVector      # [m/s^2] Acceleration magnitude\n",
    "    \n",
    "    # >> Processed data <<\n",
    "    cost::LCvxReal     # Optimization's optimal cost\n",
    "    T::LCvxMatrix      # [N] Thrust trajectory\n",
    "    T_nrm::LCvxVector  # [N] Thrust norm trajectory\n",
    "    m::LCvxVector      # [kg] Mass history\n",
    "    γ::LCvxVector      # [rad] Pointing angle\n",
    "end"
   ]
  },
  {
   "cell_type": "markdown",
   "metadata": {},
   "source": [
    "The next function creates an \"infeasible\" solution object."
   ]
  },
  {
   "cell_type": "code",
   "execution_count": 560,
   "metadata": {},
   "outputs": [],
   "source": [
    "function FailedSolution()::Solution\n",
    "    # Create an infeasible solution.\n",
    "    #\n",
    "    # :out : infeasible solution\n",
    "    t = LCvxVector(undef,0)\n",
    "    r = LCvxMatrix(undef,0,0)\n",
    "    v = LCvxMatrix(undef,0,0)\n",
    "    z = LCvxVector(undef,0)\n",
    "    u = LCvxMatrix(undef,0,0)\n",
    "    ξ = LCvxVector(undef,0)\n",
    "    cost = Inf\n",
    "    T = LCvxMatrix(undef,0,0)\n",
    "    T_nrm = LCvxVector(undef,0)\n",
    "    m = LCvxVector(undef,0)\n",
    "    γ = LCvxVector(undef,0)\n",
    "    return Solution(t,r,v,z,u,ξ,cost,T,T_nrm,m,γ)\n",
    "end\n",
    ";"
   ]
  },
  {
   "cell_type": "markdown",
   "metadata": {},
   "source": [
    "Let's now instantiate a rocket that we'll be landing!"
   ]
  },
  {
   "cell_type": "code",
   "execution_count": 561,
   "metadata": {},
   "outputs": [],
   "source": [
    "e_x = LCvxVector([1,0,0])\n",
    "e_y = LCvxVector([0,1,0])\n",
    "e_z = LCvxVector([0,0,1])\n",
    "g = -3.7114*e_z\n",
    "θ = 30*π/180                                           # [rad] Latitude of landing site\n",
    "T_sidereal_mars = 24.6229*3600 # [s]\n",
    "ω = (2π/T_sidereal_mars)*(e_x*cos(θ)+e_y*0+e_z*sin(θ))\n",
    "m_dry = 1505.0\n",
    "m_wet = 1905.0\n",
    "Isp = 225.0\n",
    "n_eng = 6                                              # Number of engines\n",
    "ϕ = 27*π/180                                           # [rad] Engine cant angle off vertical\n",
    "T_max = 3.1e3                                          # [N] Max physical thrust of single engine\n",
    "T_1 = 0.3*T_max                                        # [N] Min allowed thrust of single engine\n",
    "T_2 = 0.8*T_max                                        # [N] Max allowed thrust of single engine\n",
    "ρ_min = n_eng*T_1*cos(ϕ)\n",
    "ρ_max = n_eng*T_2*cos(ϕ)\n",
    "γ_gs = 86*π/180\n",
    "γ_p = 40*π/180\n",
    "v_max = 500*1e3/3600\n",
    "r0 = (2*e_x+0*e_y+1.5*e_z)*1e3\n",
    "v0 = 80*e_x+30*e_y-75*e_z\n",
    "Δt = 1e0\n",
    "\n",
    "rocket = Rocket(g,ω,m_dry,m_wet,Isp,ϕ,ρ_min,ρ_max,γ_gs,γ_p,v_max,r0,v0,Δt);"
   ]
  },
  {
   "cell_type": "markdown",
   "metadata": {},
   "source": [
    "## Helper functions\n",
    "\n",
    "This section defines \"utility\" functions that we'll make use of in the implementation of lossless convexification. You can think of them as lower-level \"tools\" that get used as part of solving the rocket landing problem."
   ]
  },
  {
   "cell_type": "markdown",
   "metadata": {},
   "source": [
    "The next function disretizes continuous-time dynamics using zeroth-order hold on the input signal."
   ]
  },
  {
   "cell_type": "code",
   "execution_count": 562,
   "metadata": {},
   "outputs": [],
   "source": [
    "function c2d(rocket::Rocket, Δt::LCvxReal)::Tuple{LCvxMatrix, LCvxMatrix, LCvxVector}\n",
    "    # Discretize rocket dynamics at Δt time step using zeroth-order\n",
    "    # hold (ZOH). This updates the {A,B,p} parameters of the rocket\n",
    "    # object.\n",
    "    #\n",
    "    # :in rocket: the rocket object.\n",
    "    # :in Δt: the discretization time step.\n",
    "    # :out : a tuple (A,B,p) for the discrete-time update equation\n",
    "    #         x_{k+1} = A*x_k+B*u_k+p\n",
    "    A_c,B_c,p_c,n,m = rocket.A_c,rocket.B_c,rocket.p_c,rocket.n,rocket.m\n",
    "    _M = exp(LCvxMatrix([A_c B_c p_c;zeros(m+1,n+m+1)])*Δt)\n",
    "    A = _M[1:n,1:n]\n",
    "    B = _M[1:n,n+1:n+m]\n",
    "    p = _M[1:n,n+m+1]\n",
    "    return (A,B,p)\n",
    "end\n",
    ";"
   ]
  },
  {
   "cell_type": "markdown",
   "metadata": {},
   "source": [
    "The next function applies the golden search method to minimize a real unimodal function $f:\\mathbb R\\to\\mathbb R$ over the domain $[a,b]$."
   ]
  },
  {
   "cell_type": "code",
   "execution_count": 563,
   "metadata": {},
   "outputs": [],
   "source": [
    "function golden(f::Function, a::LCvxReal, b::LCvxReal, tol::LCvxReal)::Tuple{LCvxReal, LCvxReal}\n",
    "    # Golden search for minimizing a unimodal function f(x) on the\n",
    "    # interval [a,b] to within a prescribed golerance in\n",
    "    # x. Implementation is based on [1].\n",
    "    #\n",
    "    # [1] M. J. Kochenderfer and T. A. Wheeler, Algorithms for\n",
    "    # Optimization. Cambridge, Massachusetts: The MIT Press, 2019.\n",
    "    #\n",
    "    # :in f: oracle with call signature v=f(x) where v is saught to be\n",
    "    #        minimized.\n",
    "    # :in a: search domain lower bound.\n",
    "    # :in b: search domain upper bound.\n",
    "    # :in tol: tolerance in terms of maximum distance that the\n",
    "    #          minimizer x∈[a,b] is away from a or b.\n",
    "    # :out sol: a tuple where s[1] is the argmin and s[2] is the argmax.\n",
    "    ϕ = (1+√5)/2\n",
    "    n = ceil(log((b-a)/tol)/log(ϕ)+1)\n",
    "    ρ = ϕ-1\n",
    "    d = ρ*b+(1-ρ)*a\n",
    "    yd = f(d)\n",
    "    for i = 1:n-1\n",
    "        c = ρ*a+(1-ρ)*b\n",
    "        yc = f(c)\n",
    "        if yc<yd\n",
    "            b,d,yd = d,c,yc\n",
    "        else\n",
    "            a,b = b,c\n",
    "        end\n",
    "        bracket = sort([a,b,c,d])\n",
    "        @printf(\"golden bracket: [%3.f,%.3f,%.3f,%.3f]\\n\", bracket...)\n",
    "    end\n",
    "    x_sol = b\n",
    "    sol = (x_sol,f(x_sol))\n",
    "    return sol\n",
    "end\n",
    ";"
   ]
  },
  {
   "cell_type": "markdown",
   "metadata": {},
   "source": [
    "The next function integrates a time-varying system of ordinary differential equations $\\dot x(t)=f(t,x(t))$, where $f:\\mathbb R\\times\\mathbb R^n\\to\\mathbb R^n$, over the time interval $[0,T]$ starting from an initial condition $x(0)=x_0$. The numerical integration method is [Runge-Kutta 4](https://en.wikipedia.org/wiki/Runge%E2%80%93Kutta_methods#The_Runge%E2%80%93Kutta_method), and the integration time step is a specified $\\Delta t\\in\\mathbb R_{++}$."
   ]
  },
  {
   "cell_type": "code",
   "execution_count": 564,
   "metadata": {},
   "outputs": [],
   "source": [
    "function rk4(f::Function, x0::LCvxVector, Δt::LCvxReal, T::LCvxReal)::Tuple{LCvxVector, LCvxMatrix}\n",
    "    # Integrate a system of ordinary differential equations (ODE)\n",
    "    # using RK4.\n",
    "    #\n",
    "    # :in f: the function defining the ODE, dx/dt=f(t,x).\n",
    "    # :in x0: the initial condition.\n",
    "    # :in Δt: the integration time step.\n",
    "    # :in T: the integration final time.\n",
    "    # :out : a vector storing the integration times.\n",
    "    # :out : a matrix storing in its columns the integrated state\n",
    "    #        trajectory.\n",
    "\n",
    "    # ..:: Make time grid ::..\n",
    "    t = LCvxVector(0.0:Δt:T)\n",
    "    if (T-t[end])>=√eps()\n",
    "        push!(t,T)\n",
    "    end\n",
    "    N = length(t)\n",
    "\n",
    "    # ..:: Initialize ::..\n",
    "    X = LCvxMatrix(undef,length(x0),N)\n",
    "    X[:,1] = x0\n",
    "\n",
    "    # ..:: Integrate ::..\n",
    "    for n = 1:N-1\n",
    "        y = X[:,n]\n",
    "        h = t[n+1]-t[n]\n",
    "        t_ = t[n]\n",
    "        k1 = f(t_,y)\n",
    "        k2 = f(t_+h/2,y+h*k1/2)\n",
    "        k3 = f(t_+h/2,y+h*k2/2)\n",
    "        k4 = f(t_+h,y+h*k3)\n",
    "        X[:,n+1] = y+h/6*(k1+2*k2+2*k3+k4)\n",
    "    end\n",
    "\n",
    "    return (t,X)\n",
    "end\n",
    ";"
   ]
  },
  {
   "cell_type": "markdown",
   "metadata": {},
   "source": [
    "The next function performs a numerical simulation of the rocket dynamics under a given control law, provided as a callable function."
   ]
  },
  {
   "cell_type": "code",
   "execution_count": 565,
   "metadata": {},
   "outputs": [],
   "source": [
    "function simulate(rocket::Rocket, control::Function, t_f::LCvxReal)::Solution\n",
    "    # Integrate the rocket dynamics using a predefined control input\n",
    "    # trajectory.\n",
    "    #\n",
    "    # :in rocket: the rocket object.\n",
    "    # :in control: the control trajectory, expressed as a function\n",
    "    #              u=control(t,x,r) where u is the control input, t\n",
    "    #              is the time, x is the state, and r is the rocket\n",
    "    #              object.\n",
    "    # :in t_f: the time of flight.\n",
    "    # :out sim: the simulation output as a Solution object.\n",
    "\n",
    "    # ..:: Simulate ::..\n",
    "\n",
    "    dynamics = (t,x) -> rocket.A_c*x+rocket.B_c*control(t,x,rocket)+rocket.p_c\n",
    "    x0 = LCvxVector(vcat(rocket.r0,rocket.v0,log(rocket.m_wet)))\n",
    "    Δt = 1e-2\n",
    "    t,X = rk4(dynamics,x0,Δt,t_f)\n",
    "    U = LCvxMatrix(hcat([control(t[n],X[:,n],rocket) for n = 1:length(t)]...))\n",
    "    N = length(t)\n",
    "\n",
    "    # ..:: Save solution ::..\n",
    "\n",
    "    r = X[1:3,:]\n",
    "    v = X[4:6,:]\n",
    "    z = X[7,:]\n",
    "    u = U[1:3,:]\n",
    "    ξ = U[4,:]\n",
    "\n",
    "    m = exp.(z)\n",
    "    T = LCvxMatrix(transpose(hcat([m.*u[i,:] for i=1:3]...)))\n",
    "    T_nrm = LCvxVector([norm(T[:,i],2) for i=1:N])\n",
    "    γ = LCvxVector([acos(dot(T[:,k],e_z)/norm(T[:,k],2)) for k=1:N])\n",
    "\n",
    "    sim = Solution(t,r,v,z,u,ξ,0.0,T,T_nrm,m,γ)\n",
    "\n",
    "    return sim\n",
    "end\n",
    ";"
   ]
  },
  {
   "cell_type": "markdown",
   "metadata": {},
   "source": [
    "## Solve via Lossless Convexification\n",
    "\n",
    "This section finds the optimal rocket landing trajectory by solving the relaxed convex problem (via lossless convexification theory)."
   ]
  },
  {
   "cell_type": "markdown",
   "metadata": {},
   "source": [
    "The next function solves the rocket landing problem for a fixed time of flight."
   ]
  },
  {
   "cell_type": "code",
   "execution_count": 566,
   "metadata": {},
   "outputs": [],
   "source": [
    "function solve_pdg_fft(rocket::Rocket,t_f::LCvxReal)::Solution\n",
    "    # Solve the rocket landing problem for a fixed time of flight.\n",
    "    #\n",
    "    # :in rocket: the rocket object.\n",
    "    # :in t_f: the time of flight.\n",
    "    # :out sol: solution to the rocket landing problem for this t_f.\n",
    "\n",
    "    # ..:: Discretize [0,t_f] interval ::..\n",
    "\n",
    "    # If t_f does not divide into rocket.Δt intervals evenly, then reduce Δt by\n",
    "    # minimum amount to get an integer number of intervals\n",
    "    N = Int(floor(t_f/rocket.Δt))+1+Int(t_f%rocket.Δt!=0) # Number of time nodes\n",
    "    Δt = t_f/(N-1)\n",
    "    t = LCvxVector(0.0:Δt:t_f)\n",
    "\n",
    "    A,B,p = c2d(rocket,Δt)\n",
    "\n",
    "    # ..:: Make the optimization problem ::..\n",
    "    mdl = Model(with_optimizer(ECOS.Optimizer,verbose=0))\n",
    "\n",
    "    # >> (Scaled) variables <<\n",
    "    @variable(mdl, r_s[1:3,1:N])\n",
    "    @variable(mdl, v_s[1:3,1:N])\n",
    "    @variable(mdl, z_s[1:N])\n",
    "    @variable(mdl, u_s[1:3,1:N-1])\n",
    "    @variable(mdl, ξ_s[1:N-1])\n",
    "\n",
    "    # >> Scaling (for better numerical behaviour) <<\n",
    "\n",
    "    # @ Scaling matrices @\n",
    "    s_r = zeros(3)\n",
    "    S_r = Diagonal([max(1.0,abs(rocket.r0[i])) for i=1:3])\n",
    "    s_v = zeros(3)\n",
    "    S_v = Diagonal([max(1.0,abs(rocket.v0[i])) for i=1:3])\n",
    "    s_z = (log(rocket.m_dry)+log(rocket.m_wet))/2\n",
    "    S_z = log(rocket.m_wet)-s_z\n",
    "    s_u = LCvxVector([0,0,0.5*(rocket.ρ_min/rocket.m_wet*cos(rocket.γ_p)+\n",
    "                               rocket.ρ_max/rocket.m_dry)])\n",
    "    S_u = Diagonal([rocket.ρ_max/rocket.m_dry*sin(rocket.γ_p),\n",
    "                    rocket.ρ_max/rocket.m_dry*sin(rocket.γ_p),\n",
    "                    rocket.ρ_max/rocket.m_dry-s_u[3]])\n",
    "    s_ξ,S_ξ = s_u[3],S_u[3,3]\n",
    "\n",
    "    # @ Unscaled variables @\n",
    "    r = S_r*r_s+repeat(s_r,1,N)\n",
    "    v = S_v*v_s+repeat(s_v,1,N)\n",
    "    z = S_z*z_s+repeat([s_z],N)\n",
    "    u = S_u*u_s+repeat(s_u,1,N-1)\n",
    "    ξ = S_ξ*ξ_s+repeat([s_ξ],N-1)\n",
    "\n",
    "    # >> Cost function <<\n",
    "    @objective(mdl, Min, Δt*sum(ξ))\n",
    "\n",
    "    # >> Constraints <<\n",
    "\n",
    "    # @ Dynamics @\n",
    "    X = (k) -> [r[:,k];v[:,k];z[k]] # State at time index k\n",
    "    U = (k) -> [u[:,k];ξ[k]] # Input at time index k\n",
    "    @constraint(mdl, [k=1:N-1], X(k+1).==A*X(k)+B*U(k)+p)\n",
    "\n",
    "    # @ Thrust bounds (approximate) @\n",
    "    z0 = (k) -> log(rocket.m_wet-rocket.α*rocket.ρ_max*t[k])\n",
    "    μ_min = (k) -> rocket.ρ_min*exp(-z0(k))\n",
    "    μ_max = (k) -> rocket.ρ_max*exp(-z0(k))\n",
    "    δz = (k) -> z[k]-z0(k)\n",
    "    @constraint(mdl, [k=1:N-1], ξ[k]>=μ_min(k)*(1-δz(k)+0.5*δz(k)^2))\n",
    "    @constraint(mdl, [k=1:N-1], ξ[k]<=μ_max(k)*(1-δz(k)))\n",
    "\n",
    "    # @ Mass physical bounds constraint @\n",
    "    @constraint(mdl, [k=1:N], z0(k)<=z[k])\n",
    "    @constraint(mdl, [k=1:N], z[k]<=log(rocket.m_wet-rocket.α*rocket.ρ_min*t[k]))\n",
    "\n",
    "    # @ Thrust bounds LCvx @\n",
    "    @constraint(mdl, [k=1:N-1], vcat(ξ[k],u[:,k]) in\n",
    "                MOI.SecondOrderCone(4))\n",
    "\n",
    "    # @ Attitude pointing constraint @\n",
    "    e_z = LCvxVector([0,0,1])\n",
    "    @constraint(mdl, [k=1:N-1], dot(u[:,k],e_z)>=ξ[k]*cos(rocket.γ_p))\n",
    "\n",
    "    # @ Glide slope constraint @\n",
    "    H_gs = LCvxMatrix([cos(rocket.γ_gs) 0 -sin(rocket.γ_gs);\n",
    "                       -cos(rocket.γ_gs) 0 -sin(rocket.γ_gs);\n",
    "                       0 cos(rocket.γ_gs) -sin(rocket.γ_gs);\n",
    "                       0 -cos(rocket.γ_gs) -sin(rocket.γ_gs)])\n",
    "    h_gs = zeros(4)\n",
    "    @constraint(mdl, [k=1:N], H_gs*r[:,k].<=h_gs)\n",
    "\n",
    "    # @ Velocity upper bound @\n",
    "    @constraint(mdl, [k=1:N], vcat(rocket.v_max,v[:,k]) in\n",
    "                MOI.SecondOrderCone(4))\n",
    "\n",
    "    # @ Boundary conditions @\n",
    "    @constraint(mdl, r[:,1].==rocket.r0)\n",
    "    @constraint(mdl, v[:,1].==rocket.v0)\n",
    "    @constraint(mdl, z[1]==log(rocket.m_wet))\n",
    "    @constraint(mdl, r[:,N].==zeros(3))\n",
    "    @constraint(mdl, v[:,N].==zeros(3))\n",
    "    @constraint(mdl, z[N]>=log(rocket.m_dry))\n",
    "\n",
    "    # >> Solve problem <<\n",
    "    optimize!(mdl)\n",
    "    if termination_status(mdl)!=MOI.OPTIMAL\n",
    "        return FailedSolution()\n",
    "    end\n",
    "\n",
    "    # ..:: Save the solution ::..\n",
    "\n",
    "    r = value.(r)\n",
    "    v = value.(v)\n",
    "    z = value.(z)\n",
    "    u = value.(u)\n",
    "    ξ = value.(ξ)\n",
    "\n",
    "    cost = objective_value(mdl)\n",
    "    m = exp.(z)\n",
    "    T = LCvxMatrix(transpose(hcat([m[1:end-1].*u[i,:] for i=1:3]...)))\n",
    "    T_nrm = LCvxVector([norm(T[:,i],2) for i=1:N-1])\n",
    "    γ = LCvxVector([acos(dot(T[:,k],e_z)/norm(T[:,k],2)) for k=1:N-1])\n",
    "\n",
    "    sol = Solution(t,r,v,z,u,ξ,cost,T,T_nrm,m,γ)\n",
    "\n",
    "    return sol\n",
    "end\n",
    ";"
   ]
  },
  {
   "cell_type": "markdown",
   "metadata": {},
   "source": [
    "We now use the above function inside of a golden search routine, to find the minimum fuel time of flight."
   ]
  },
  {
   "cell_type": "code",
   "execution_count": 567,
   "metadata": {},
   "outputs": [
    {
     "name": "stdout",
     "output_type": "stream",
     "text": [
      "golden bracket: [68.394309,68.394,102.688,158.177]\n",
      "golden bracket: [68.394309,102.688,123.883,123.883]\n",
      "golden bracket: [68.394309,89.589,89.589,102.688]\n",
      "golden bracket: [68.394309,81.493,81.493,89.589]\n",
      "golden bracket: [68.394309,76.490,76.490,81.493]\n",
      "golden bracket: [73.397751,73.398,76.490,81.493]\n",
      "golden bracket: [73.397751,76.490,78.401,78.401]\n",
      "golden bracket: [73.397751,75.309,75.309,76.490]\n",
      "golden bracket: [74.578903,74.579,75.309,76.490]\n",
      "golden bracket: [74.578903,75.309,75.760,75.760]\n",
      "golden bracket: [74.578903,75.030,75.030,75.309]\n",
      "golden bracket: [74.857735,74.858,75.030,75.309]\n",
      "golden bracket: [74.857735,75.030,75.137,75.137]\n",
      "golden bracket: [74.964239,74.964,75.030,75.137]\n",
      "golden bracket: [74.964239,75.030,75.071,75.071]\n",
      "golden bracket: [74.964239,75.005,75.005,75.030]\n",
      "golden bracket: [74.964239,74.989,74.989,75.005]\n",
      "golden bracket: [74.979778,74.980,74.989,75.005]\n",
      "golden bracket: [74.989382,74.995,74.995,75.005]\n",
      "golden bracket: [74.995317,74.999,74.999,75.005]\n",
      "golden bracket: [74.995317,74.999,75.001,75.001]\n",
      "golden bracket: [74.997584,74.998,74.999,75.001]\n",
      "golden bracket: [74.998985,75.000,75.000,75.001]\n",
      "golden bracket: [74.998985,75.000,75.000,75.000]\n",
      "golden bracket: [74.999520,75.000,75.000,75.000]\n"
     ]
    }
   ],
   "source": [
    "tol = 1e-3 # Suboptimality tolerance for golden search\n",
    "\n",
    "# The minimum time of flight is given by the time taken to\n",
    "# zero the velocity at the lightest weight (after that, the\n",
    "# rocket can no longer reduce altitude, so will never touch down\n",
    "# unless it has done so already). Ignoring gravity gives a lower bound.\n",
    "tf_min = rocket.m_dry*norm(rocket.v0,2)/rocket.ρ_max\n",
    "\n",
    "# The maximum time of flight is given by the time taken to\n",
    "# deplete fuel at minimum thrust\n",
    "tf_max = (rocket.m_wet-rocket.m_dry)/(rocket.α*rocket.ρ_min)\n",
    "\n",
    "t_opt,cost_opt = golden((t_f) -> solve_pdg_fft(rocket,t_f).cost, tf_min, tf_max, tol)\n",
    "\n",
    "pdg = solve_pdg_fft(rocket,t_opt); # Optimal 3-DoF PDG trajectory"
   ]
  },
  {
   "cell_type": "markdown",
   "metadata": {},
   "source": [
    "Now let's run the optimal control through a numerical integrator, to get a \"continuous time\" trajectory. If all went well, this should exactly match the optimization output at the discrete time points."
   ]
  },
  {
   "cell_type": "markdown",
   "metadata": {},
   "source": [
    "First, define a function which maps the optimal solution in the transformed variables of lossless convexification, back to the original variables of the rocket landing problem."
   ]
  },
  {
   "cell_type": "code",
   "execution_count": 568,
   "metadata": {},
   "outputs": [],
   "source": [
    "function optimal_controller(t::LCvxReal, x::LCvxVector, rocket::Rocket, sol::Solution)::LCvxVector\n",
    "    # Output the optimal control input (rocket engine thrust vector) at time t.\n",
    "    #\n",
    "    # :in t: the time at which to compute the optimal control.\n",
    "    # :in x: the current state.\n",
    "    # :in rocket: the rocket object.\n",
    "    # :in sol: the optimized solution.\n",
    "    # :out u: the optimal input for the state-space form of the rocket\n",
    "    #         dynamics.\n",
    "\n",
    "    # Get current mass\n",
    "    z = x[7]\n",
    "    m = exp.(z)\n",
    "\n",
    "    # Get current optimal acceleration (ZOH interpolation)\n",
    "    i = findlast(τ->τ<=t,sol.t)\n",
    "    if typeof(i)==Nothing || i>=size(sol.u,2)\n",
    "        u = sol.u[:,end]\n",
    "    else\n",
    "        u = sol.u[:,i]\n",
    "    end\n",
    "\n",
    "    # Get current optimal thrust\n",
    "    T = u*m\n",
    "\n",
    "    # Create the input vector for the state-space dynamics\n",
    "    u = LCvxVector(vcat(T/m,norm(T,2)/m))\n",
    "\n",
    "    return u\n",
    "end\n",
    ";"
   ]
  },
  {
   "cell_type": "markdown",
   "metadata": {},
   "source": [
    "We can now perform the numerical simulation."
   ]
  },
  {
   "cell_type": "code",
   "execution_count": 569,
   "metadata": {},
   "outputs": [],
   "source": [
    "optimal_control = (t,x,rocket) -> optimal_controller(t,x,rocket,pdg)\n",
    "sim = simulate(rocket,optimal_control,pdg.t[end]);"
   ]
  },
  {
   "cell_type": "markdown",
   "metadata": {},
   "source": [
    "## Result plots\n",
    "\n",
    "This section plots the computed optimal trajectory. You can find a discussion of the results in the CSM paper."
   ]
  },
  {
   "cell_type": "markdown",
   "metadata": {},
   "source": [
    "Define convenient variables for easier plotting code."
   ]
  },
  {
   "cell_type": "code",
   "execution_count": 570,
   "metadata": {},
   "outputs": [],
   "source": [
    "v_max = rocket.v_max*3.6\n",
    "\n",
    "t = pdg.t\n",
    "N = length(t)\n",
    "r_x = pdg.r[1,:]*1e-3\n",
    "r_y = pdg.r[2,:]*1e-3\n",
    "r_z = pdg.r[3,:]*1e-3\n",
    "v_x = pdg.v[1,:]*3.6\n",
    "v_y = pdg.v[2,:]*3.6\n",
    "v_z = pdg.v[3,:]*3.6\n",
    "mass = pdg.m\n",
    "T = pdg.T*1e-3\n",
    "\n",
    "t_sim = sim.t\n",
    "N_sim = length(t_sim)\n",
    "r_x_sim = sim.r[1,:]*1e-3\n",
    "r_y_sim = sim.r[2,:]*1e-3\n",
    "r_z_sim = sim.r[3,:]*1e-3\n",
    "v_x_sim = sim.v[1,:]*3.6\n",
    "v_y_sim = sim.v[2,:]*3.6\n",
    "v_z_sim = sim.v[3,:]*3.6\n",
    "mass_sim = sim.m\n",
    "T_sim = sim.T*1e-3\n",
    "\n",
    ";"
   ]
  },
  {
   "cell_type": "markdown",
   "metadata": {},
   "source": [
    "Define plot styles."
   ]
  },
  {
   "cell_type": "code",
   "execution_count": 571,
   "metadata": {},
   "outputs": [],
   "source": [
    "style_ct = Dict(:color=>\"black\",:linewidth=>1.5)\n",
    "style_dt = Dict(:color=>\"orange\",:linestyle=>\"none\",:marker=>\".\",:markersize=>4)\n",
    "style_thrust = Dict(:edgecolor=>\"none\",:facecolor=>\"red\",:width=>0.005,:head_width=>0.03,:alpha=>0.3)\n",
    "style_hover = Dict(:color=>\"blue\",:linewidth=>1.5)\n",
    "style_apch_cone = Dict(:color=>\"blue\",:linewidth=>1, :linestyle=>\"dashed\")\n",
    "style_ground = Dict(:facecolor=>\"brown\",:edgecolor=>\"none\",:alpha=>0.3)\n",
    "style_constraint = Dict(:color=>\"red\",:linestyle=>\"--\",:linewidth=>2)\n",
    "style_constraint_fill = Dict(:edgecolor=>\"none\",:facecolor=>\"black\",:alpha=>0.1)\n",
    ";"
   ]
  },
  {
   "cell_type": "markdown",
   "metadata": {},
   "source": [
    "### Convenience functions\n",
    "\n",
    "This section defines some utility functions for plotting."
   ]
  },
  {
   "cell_type": "code",
   "execution_count": 572,
   "metadata": {},
   "outputs": [],
   "source": [
    "function get_thrust_vec(pdg::Solution,k::Int,i::Int,j::Int,scale::LCvxReal=0.4)::LCvxVector\n",
    "    # Compute a thrust vector \"arrow\".\n",
    "    #\n",
    "    # :in pdg: the optimized solution.\n",
    "    # :in k: the discrete time step for which to plot.\n",
    "    # :in i: the \"x\" axis.\n",
    "    # :in j: the \"y\" axis.\n",
    "    # :in scale: multiplicative scaling factor to apply to the thrust\n",
    "    #            vector.\n",
    "    T = pdg.T[:,k]/ρ_max*scale\n",
    "    r = pdg.r[:,k]*1e-3\n",
    "    return [r[i],r[j],T[i],T[j]]\n",
    "end\n",
    ";"
   ]
  },
  {
   "cell_type": "code",
   "execution_count": 573,
   "metadata": {},
   "outputs": [],
   "source": [
    "function set_fonts()::Nothing\n",
    "    # Set the figure fonts.\n",
    "    fig_small_sz = 12\n",
    "    fig_med_sz = 15\n",
    "    fig_big_sz = 17\n",
    "    plt.rc(\"text\", usetex=true)\n",
    "    plt.rc(\"font\", size=fig_small_sz, family=\"serif\")\n",
    "    plt.rc(\"axes\", titlesize=fig_small_sz)\n",
    "    plt.rc(\"axes\", labelsize=fig_med_sz)\n",
    "    plt.rc(\"xtick\", labelsize=fig_small_sz)\n",
    "    plt.rc(\"ytick\", labelsize=fig_small_sz)\n",
    "    plt.rc(\"legend\", fontsize=fig_small_sz)\n",
    "    plt.rc(\"figure\", titlesize=fig_big_sz)\n",
    "    \n",
    "    return nothing\n",
    "end\n",
    ";"
   ]
  },
  {
   "cell_type": "code",
   "execution_count": 574,
   "metadata": {},
   "outputs": [],
   "source": [
    "function draw_approach(ax; ground_h::Float64 = -0.1, apch_cone_w::Float64 = 10.0)::Nothing\n",
    "    # Draw the approach cone for the rocket landing problem (in 2D).\n",
    "    #\n",
    "    # :in ax: the graph axes object on which to draw the approach cone\n",
    "    # :in ground_h: the below-ground vertical space to show\n",
    "    # :in apch_cone_w: width of the approach cone\n",
    "\n",
    "    # Adjust below-ground level\n",
    "    ylim = ax.get_ylim()\n",
    "    dz = ground_h-ylim[1]\n",
    "    ylim = ylim.+dz\n",
    "    ax.set_ylim(ylim)\n",
    "    xlim,ylim = ax.get_xlim(),ax.get_ylim()\n",
    "\n",
    "    # Draw the approach cone\n",
    "    apch_cone_x = [-apch_cone_w,0,apch_cone_w]\n",
    "    apch_cone_y = abs.(apch_cone_x)./tan(rocket.γ_gs)\n",
    "    ax.plot(apch_cone_x,apch_cone_y; style_apch_cone...)\n",
    "\n",
    "    # Draw the ground\n",
    "    ax.fill_between([-apch_cone_w,apch_cone_w],ground_h,0; style_ground...)\n",
    "\n",
    "    # Adjust axes limits\n",
    "    ax.set_xlim(xlim)\n",
    "    ax.set_ylim(ylim)\n",
    "\n",
    "    return nothing\n",
    "end\n",
    ";"
   ]
  },
  {
   "cell_type": "markdown",
   "metadata": {},
   "source": [
    "### Position trajectory plot"
   ]
  },
  {
   "cell_type": "code",
   "execution_count": 575,
   "metadata": {},
   "outputs": [],
   "source": [
    "# Find regions of max and min thrust\n",
    "T_nrm = LCvxVector([norm(T[:,i]) for i=1:N-1])\n",
    "max_thrust = Array{Bool,1}([(ρ_max-norm(T[:,i])*1e3)/ρ_max<1e-2 for i=1:N-1])\n",
    "append!(max_thrust, max_thrust[end])\n",
    "min_thrust = .!max_thrust\n",
    ";"
   ]
  },
  {
   "cell_type": "code",
   "execution_count": 576,
   "metadata": {},
   "outputs": [
    {
     "data": {
      "image/png": "[encoded data removed]",
      "text/plain": [
       "Figure(PyObject <Figure size 400x400 with 1 Axes>)"
      ]
     },
     "metadata": {},
     "output_type": "display_data"
    }
   ],
   "source": [
    "fig = plt.figure(figsize=(4,4))\n",
    "plt.clf()\n",
    "set_fonts()\n",
    "\n",
    "ax = fig.add_subplot()\n",
    "ax.axis(\"equal\")\n",
    "ax.grid()\n",
    "ax.set_facecolor(\"white\")\n",
    "fig.patch.set_alpha(0)\n",
    "\n",
    "# Max-thrust regime\n",
    "ax.plot(r_x,r_y; style_ct..., color=\"red\")\n",
    "\n",
    "# Min-thrust regime\n",
    "tmp_x = copy(r_x)\n",
    "tmp_y = copy(r_y)\n",
    "tmp_x[max_thrust] .= Inf\n",
    "tmp_y[max_thrust] .= Inf\n",
    "ax.plot(tmp_x,tmp_y; style_ct..., color=\"blue\")\n",
    "\n",
    "for k = 1:N-1\n",
    "    ax.arrow(get_thrust_vec(pdg,k,1,2)...; style_thrust...)\n",
    "end\n",
    "\n",
    "ax.set_xlabel(L\"Position $x$ [km]\")\n",
    "ax.set_ylabel(L\"Position $y$ [km]\")\n",
    "\n",
    "ax.set_xticks(ticks=[0,1,2,3])\n",
    "ax.set_yticks(ticks=[-1,0,1])\n",
    "\n",
    "ax.set_xlim([0,3])\n",
    "ax.set_ylim([-1,1])\n",
    "\n",
    "fig.savefig(\"figures/lcvx_3dof_rocket_pos_xy.pdf\",bbox_inches=\"tight\")\n",
    ";"
   ]
  },
  {
   "cell_type": "code",
   "execution_count": 577,
   "metadata": {},
   "outputs": [
    {
     "data": {
      "image/png": "[encoded data removed]",
      "text/plain": [
       "Figure(PyObject <Figure size 400x400 with 1 Axes>)"
      ]
     },
     "metadata": {},
     "output_type": "display_data"
    }
   ],
   "source": [
    "fig = plt.figure(figsize=(4,4))\n",
    "plt.clf()\n",
    "set_fonts()\n",
    "\n",
    "ax = fig.add_subplot()\n",
    "ax.axis(\"equal\")\n",
    "ax.grid()\n",
    "ax.set_facecolor(\"white\")\n",
    "fig.patch.set_alpha(0)\n",
    "\n",
    "draw_approach(ax; ground_h=-2.0)\n",
    "\n",
    "# Max-thrust regime\n",
    "ax.plot(r_x,r_z; style_ct..., color=\"red\")\n",
    "\n",
    "# Min-thrust regime\n",
    "tmp_x = copy(r_x)\n",
    "tmp_z = copy(r_z)\n",
    "tmp_x[max_thrust] .= Inf\n",
    "tmp_z[max_thrust] .= Inf\n",
    "ax.plot(tmp_x,tmp_z; style_ct..., color=\"blue\")\n",
    "\n",
    "for k = 1:N-1\n",
    "    ax.arrow(get_thrust_vec(pdg,k,1,3)...; style_thrust...)\n",
    "end\n",
    "\n",
    "# Put markers where the slideslope constraint activates\n",
    "n = [cos(rocket.γ_gs);0;-sin(rocket.γ_gs)] # Glide slope normal\n",
    "for i = 1:N\n",
    "    local gs_dot = -dot(n,[r_x[i];r_y[i];r_z[i]])\n",
    "    if gs_dot<1e-12 && r_z[i]>1e-10\n",
    "        ax.plot(r_x[i],r_z[i]; color=\"black\",marker=\".\",markersize=7)\n",
    "    end\n",
    "end\n",
    "\n",
    "ax.set_xlabel(L\"Position $x$ [km]\")\n",
    "ax.set_ylabel(L\"Position $z$ [km]\")\n",
    "\n",
    "ax.set_xticks(ticks=[0,1,2,3])\n",
    "ax.set_yticks(ticks=[0,1,2])\n",
    "\n",
    "ax.set_ylim([-1,2])\n",
    "ax.set_xlim([0,3])\n",
    "\n",
    "\n",
    "fig.savefig(\"figures/lcvx_3dof_rocket_pos_xz.pdf\",bbox_inches=\"tight\")\n",
    ";"
   ]
  },
  {
   "cell_type": "code",
   "execution_count": 578,
   "metadata": {},
   "outputs": [
    {
     "data": {
      "image/png": "[encoded data removed]",
      "text/plain": [
       "Figure(PyObject <Figure size 400x400 with 1 Axes>)"
      ]
     },
     "metadata": {},
     "output_type": "display_data"
    }
   ],
   "source": [
    "fig = plt.figure(figsize=(4,4))\n",
    "plt.clf()\n",
    "set_fonts()\n",
    "\n",
    "ax = fig.add_subplot()\n",
    "ax.axis(\"equal\")\n",
    "ax.grid()\n",
    "ax.set_facecolor(\"white\")\n",
    "fig.patch.set_alpha(0)\n",
    "\n",
    "draw_approach(ax; ground_h=-2.0)\n",
    "\n",
    "# Max-thrust regime\n",
    "ax.plot(r_y,r_z; style_ct..., color=\"red\")\n",
    "\n",
    "# Min-thrust regime\n",
    "tmp_y = copy(r_y)\n",
    "tmp_z = copy(r_z)\n",
    "tmp_y[max_thrust] .= Inf\n",
    "tmp_z[max_thrust] .= Inf\n",
    "ax.plot(tmp_y,tmp_z; style_ct..., color=\"blue\")\n",
    "\n",
    "for k = 1:N-1\n",
    "    ax.arrow(get_thrust_vec(pdg,k,2,3)...; style_thrust...)\n",
    "end\n",
    "\n",
    "ax.set_xlabel(L\"Position $y$ [km]\")\n",
    "ax.set_ylabel(L\"Position $z$ [km]\")\n",
    "\n",
    "ax.set_xticks(ticks=[-1,-0.5,0,0.5,1])\n",
    "ax.set_yticks(ticks=[0,1,2])\n",
    "\n",
    "ax.set_xlim([-1,1])\n",
    "ax.set_ylim([-0.5,2])\n",
    "\n",
    "fig.savefig(\"figures/lcvx_3dof_rocket_pos_yz.pdf\",bbox_inches=\"tight\")\n",
    ";"
   ]
  },
  {
   "cell_type": "markdown",
   "metadata": {},
   "source": [
    "### Speed plot"
   ]
  },
  {
   "cell_type": "code",
   "execution_count": 579,
   "metadata": {},
   "outputs": [
    {
     "data": {
      "image/png": "[encoded data removed]",
      "text/plain": [
       "Figure(PyObject <Figure size 400x400 with 1 Axes>)"
      ]
     },
     "metadata": {},
     "output_type": "display_data"
    }
   ],
   "source": [
    "fig = plt.figure(figsize=(4,4))\n",
    "plt.clf()\n",
    "set_fonts()\n",
    "\n",
    "ax = fig.add_subplot()\n",
    "ax.grid()\n",
    "ax.set_facecolor(\"white\")\n",
    "fig.patch.set_alpha(0)\n",
    "\n",
    "v_nrm = LCvxVector([norm([v_x[i];v_y[i];v_z[i]]) for i=1:N])\n",
    "v_sim_nrm = LCvxVector([norm([v_x_sim[i];v_y_sim[i];v_z_sim[i]]) for i=1:N_sim])\n",
    "\n",
    "ax.axhline(y=v_max; style_constraint...)\n",
    "ax.fill_between([0,t_opt],v_max,v_max+50; style_constraint_fill...)\n",
    "ax.plot(t_sim, v_sim_nrm; style_ct...)\n",
    "ax.plot(t, v_nrm; style_dt...)\n",
    "\n",
    "ax.set_xticks(ticks=[0,20,40,60,75])\n",
    "ax.set_yticks(ticks=[0,200,400,600,800,850])\n",
    "\n",
    "ax.set_xlim([0,75])\n",
    "ax.set_ylim([0,v_max+50])\n",
    "\n",
    "ax.set_xlabel(\"Time [s]\")\n",
    "ax.set_ylabel(L\"Speed $\\|v(t)\\|_2$ [km/h]\")\n",
    "\n",
    "fig.savefig(\"figures/lcvx_3dof_rocket_speed.pdf\",bbox_inches=\"tight\")\n",
    ";"
   ]
  },
  {
   "cell_type": "markdown",
   "metadata": {},
   "source": [
    "### Mass plot"
   ]
  },
  {
   "cell_type": "code",
   "execution_count": 580,
   "metadata": {},
   "outputs": [
    {
     "data": {
      "image/png": "[encoded data removed]",
      "text/plain": [
       "Figure(PyObject <Figure size 400x400 with 1 Axes>)"
      ]
     },
     "metadata": {},
     "output_type": "display_data"
    }
   ],
   "source": [
    "fig = plt.figure(4,figsize=(4,4))\n",
    "plt.clf()\n",
    "set_fonts()\n",
    "\n",
    "ax = fig.add_subplot()\n",
    "ax.grid()\n",
    "ax.set_facecolor(\"white\")\n",
    "fig.patch.set_alpha(0)\n",
    "\n",
    "ax.axhline(y=rocket.m_dry; style_constraint...)\n",
    "ax.fill_between([0,t_opt],rocket.m_dry,rocket.m_dry-100; style_constraint_fill...)\n",
    "ax.axhline(y=rocket.m_wet; style_constraint...)\n",
    "ax.fill_between([0,t_opt],rocket.m_wet,rocket.m_wet+100; style_constraint_fill...)\n",
    "ax.plot(t_sim, mass_sim; style_ct...)\n",
    "ax.plot(t, mass; style_dt...)\n",
    "\n",
    "ax.set_xticks(ticks=[0,20,40,60,75])\n",
    "ax.set_yticks(ticks=[1450,1500,1600,1700,1800,1900,1950])\n",
    "\n",
    "ax.set_xlim([0,75])\n",
    "ax.set_ylim([1450,1950])\n",
    "\n",
    "ax.set_xlabel(\"Time [s]\")\n",
    "ax.set_ylabel(\"Mass [kg]\")\n",
    "\n",
    "fig.savefig(\"figures/lcvx_3dof_rocket_mass.pdf\",bbox_inches=\"tight\")\n",
    ";"
   ]
  },
  {
   "cell_type": "markdown",
   "metadata": {},
   "source": [
    "### Thrust magnitude plots"
   ]
  },
  {
   "cell_type": "markdown",
   "metadata": {},
   "source": [
    "The first plot just shows the total thrust vector magnitude. The \"lossless convexification\" is most apparent during the minimum-thrust time interval. Here, it is feasible for the thrust magnitude to dip below the minimum for relaxed convex problem, but lossless convexification has provided the guarantee that an optimal solution will not do so."
   ]
  },
  {
   "cell_type": "code",
   "execution_count": 581,
   "metadata": {},
   "outputs": [
    {
     "data": {
      "image/png": "[encoded data removed]",
      "text/plain": [
       "Figure(PyObject <Figure size 400x400 with 1 Axes>)"
      ]
     },
     "metadata": {},
     "output_type": "display_data"
    }
   ],
   "source": [
    "fig = plt.figure(4,figsize=(4,4))\n",
    "plt.clf()\n",
    "set_fonts()\n",
    "\n",
    "ax = fig.add_subplot()\n",
    "ax.grid()\n",
    "ax.set_facecolor(\"white\")\n",
    "fig.patch.set_alpha(0)\n",
    "\n",
    "T_nrm = LCvxVector([norm(T[:,i]) for i=1:N-1])\n",
    "T_sim_nrm = LCvxVector([norm(T_sim[:,i]) for i=1:N_sim])\n",
    "\n",
    "ax.axhline(y=rocket.ρ_min*1e-3; style_constraint...)\n",
    "ax.fill_between([0,t_opt],rocket.ρ_min*1e-3,0; style_constraint_fill...)\n",
    "ax.axhline(y=rocket.ρ_max*1e-3; style_constraint...)\n",
    "ax.fill_between([0,t_opt],rocket.ρ_max*1e-3,rocket.ρ_max*1e-3+16; style_constraint_fill...)\n",
    "ax.plot(t_sim, T_sim_nrm; style_ct...)\n",
    "ax.plot(t[1:end-1], T_nrm; style_dt...)\n",
    "\n",
    "ax.set_xticks(ticks=[0,20,40,60,75])\n",
    "ax.set_yticks(ticks=[0,4,8,12,16])\n",
    "\n",
    "ax.set_xlim([0,75])\n",
    "ax.set_ylim([0,16])\n",
    "\n",
    "ax.set_xlabel(\"Time [s]\")\n",
    "ax.set_ylabel(\"Thrust [kN]\")\n",
    "\n",
    "fig.savefig(\"figures/lcvx_3dof_rocket_thrust.pdf\",bbox_inches=\"tight\")\n",
    ";"
   ]
  },
  {
   "cell_type": "markdown",
   "metadata": {},
   "source": [
    "The next plot shows the $z$-component of the thrust, together with a blue \"hover line\". Above this line, the vehicle is accelerating up (towards the sky), while below this line it is accelerating down (towards the ground)."
   ]
  },
  {
   "cell_type": "code",
   "execution_count": 582,
   "metadata": {},
   "outputs": [
    {
     "data": {
      "image/png": "[encoded data removed]",
      "text/plain": [
       "Figure(PyObject <Figure size 400x400 with 1 Axes>)"
      ]
     },
     "metadata": {},
     "output_type": "display_data"
    }
   ],
   "source": [
    "fig = plt.figure(2,figsize=(4,4))\n",
    "plt.clf()\n",
    "set_fonts()\n",
    "\n",
    "ax = fig.add_subplot()\n",
    "ax.grid()\n",
    "ax.set_facecolor(\"white\")\n",
    "fig.patch.set_alpha(0)\n",
    "\n",
    "T_z = LCvxVector([T[3,i] for i=1:N-1])\n",
    "T_z_sim = LCvxVector([T_sim[3,i] for i=1:N_sim])\n",
    "T_z_max = LCvxVector([sqrt((ρ_max*1e-3)^2-T[1,i]^2-T[2,i]^2) for i=1:N-1])\n",
    "append!(T_z_max, T_z_max[end])\n",
    "T_z_min = LCvxVector([sqrt(max(0,(ρ_min*1e-3)^2-T[1,i]^2-T[2,i]^2)) for i=1:N-1])\n",
    "append!(T_z_min, T_z_min[end])\n",
    "hover_line = mass*norm(g)*1e-3\n",
    "\n",
    "ax.plot(t, T_z_max; style_constraint...)\n",
    "ax.fill_between(t,T_z_max,40; style_constraint_fill...)\n",
    "ax.plot(t, T_z_min; style_constraint...)\n",
    "ax.fill_between(t,T_z_min,0; style_constraint_fill...)\n",
    "ax.plot(t, hover_line; style_hover...)\n",
    "ax.plot(t_sim, T_z_sim; style_ct...)\n",
    "ax.plot(t[1:end-1], T_z; style_dt...)\n",
    "\n",
    "ax.set_xticks(ticks=[0,20,40,60,75])\n",
    "ax.set_yticks(ticks=[0,5,10,15])\n",
    "\n",
    "ax.set_xlim([0,75])\n",
    "ax.set_ylim([0,15])\n",
    "\n",
    "ax.set_xlabel(\"Time [s]\")\n",
    "ax.set_ylabel(L\"Thrust along $\\hat e_z$ [kN]\")\n",
    "\n",
    "fig.savefig(\"figures/lcvx_3dof_rocket_thrust_z.pdf\",bbox_inches=\"tight\")\n",
    ";"
   ]
  },
  {
   "cell_type": "markdown",
   "metadata": {},
   "source": [
    "### Pointing angle plot"
   ]
  },
  {
   "cell_type": "code",
   "execution_count": 583,
   "metadata": {},
   "outputs": [
    {
     "data": {
      "image/png": "[encoded data removed]",
      "text/plain": [
       "Figure(PyObject <Figure size 400x400 with 1 Axes>)"
      ]
     },
     "metadata": {},
     "output_type": "display_data"
    }
   ],
   "source": [
    "fig = plt.figure(4,figsize=(4,4))\n",
    "plt.clf()\n",
    "set_fonts()\n",
    "\n",
    "ax = fig.add_subplot()\n",
    "ax.grid()\n",
    "ax.set_facecolor(\"white\")\n",
    "fig.patch.set_alpha(0)\n",
    "\n",
    "pa = LCvxVector([acos(T[3,i]/norm(T[:,i]))*180/pi for i=1:N-1])\n",
    "pa_sim = LCvxVector([acos(T_sim[3,i]/norm(T_sim[:,i]))*180/pi for i=1:N_sim])\n",
    "\n",
    "ax.axhline(rocket.γ_p*180/pi; style_constraint...)\n",
    "ax.fill_between([0,t_opt],rocket.γ_p*180/pi,rocket.γ_p*180/pi+20; style_constraint_fill...)\n",
    "ax.plot(t_sim, pa_sim; style_ct...)\n",
    "ax.plot(t[1:end-1], pa; style_dt...)\n",
    "\n",
    "ax.set_xticks(ticks=[0,20,40,60,75])\n",
    "ax.set_yticks(ticks=[0,10,20,30,40,50])\n",
    "\n",
    "ax.set_xlim([0,75])\n",
    "ax.set_ylim([0,50])\n",
    "\n",
    "ax.set_xlabel(\"Time [s]\")\n",
    "ax.set_ylabel(L\"Pointing angle [$^\\circ$]\")\n",
    "\n",
    "fig.savefig(\"figures/lcvx_3dof_rocket_angle.pdf\",bbox_inches=\"tight\")\n",
    ";"
   ]
  }
 ],
 "metadata": {
  "kernelspec": {
   "display_name": "Julia 1.5.3",
   "language": "julia",
   "name": "julia-1.5"
  },
  "language_info": {
   "file_extension": ".jl",
   "mimetype": "application/julia",
   "name": "julia",
   "version": "1.5.3"
  }
 },
 "nbformat": 4,
 "nbformat_minor": 4
}
